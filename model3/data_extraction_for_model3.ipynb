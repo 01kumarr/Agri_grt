{
 "cells": [
  {
   "cell_type": "code",
   "execution_count": 54,
   "id": "aa259932-ee31-41ff-b463-4eaf36e9a9e3",
   "metadata": {},
   "outputs": [],
   "source": [
    "import pandas as pd\n",
    "import numpy as np\n",
    "\n",
    "from statsmodels.tsa.seasonal import seasonal_decompose\n",
    "from scipy.stats import boxcox"
   ]
  },
  {
   "cell_type": "code",
   "execution_count": 6,
   "id": "2242d42c-ba60-41f1-b394-02b8268557f4",
   "metadata": {},
   "outputs": [
    {
     "data": {
      "text/html": [
       "<div>\n",
       "<style scoped>\n",
       "    .dataframe tbody tr th:only-of-type {\n",
       "        vertical-align: middle;\n",
       "    }\n",
       "\n",
       "    .dataframe tbody tr th {\n",
       "        vertical-align: top;\n",
       "    }\n",
       "\n",
       "    .dataframe thead th {\n",
       "        text-align: right;\n",
       "    }\n",
       "</style>\n",
       "<table border=\"1\" class=\"dataframe\">\n",
       "  <thead>\n",
       "    <tr style=\"text-align: right;\">\n",
       "      <th></th>\n",
       "      <th>Modal Price (Rs./Quintal)</th>\n",
       "      <th>Variety</th>\n",
       "      <th>Reported Date</th>\n",
       "    </tr>\n",
       "  </thead>\n",
       "  <tbody>\n",
       "    <tr>\n",
       "      <th>0</th>\n",
       "      <td>900</td>\n",
       "      <td>(Red Nanital)</td>\n",
       "      <td>2019-11-01</td>\n",
       "    </tr>\n",
       "    <tr>\n",
       "      <th>1</th>\n",
       "      <td>970</td>\n",
       "      <td>(Red Nanital)</td>\n",
       "      <td>2019-10-19</td>\n",
       "    </tr>\n",
       "    <tr>\n",
       "      <th>2</th>\n",
       "      <td>500</td>\n",
       "      <td>(Red Nanital)</td>\n",
       "      <td>2022-11-18</td>\n",
       "    </tr>\n",
       "    <tr>\n",
       "      <th>3</th>\n",
       "      <td>300</td>\n",
       "      <td>(Red Nanital)</td>\n",
       "      <td>2022-03-08</td>\n",
       "    </tr>\n",
       "    <tr>\n",
       "      <th>4</th>\n",
       "      <td>600</td>\n",
       "      <td>(Red Nanital)</td>\n",
       "      <td>2022-02-15</td>\n",
       "    </tr>\n",
       "  </tbody>\n",
       "</table>\n",
       "</div>"
      ],
      "text/plain": [
       "   Modal Price (Rs./Quintal)        Variety Reported Date\n",
       "0                        900  (Red Nanital)    2019-11-01\n",
       "1                        970  (Red Nanital)    2019-10-19\n",
       "2                        500  (Red Nanital)    2022-11-18\n",
       "3                        300  (Red Nanital)    2022-03-08\n",
       "4                        600  (Red Nanital)    2022-02-15"
      ]
     },
     "execution_count": 6,
     "metadata": {},
     "output_type": "execute_result"
    }
   ],
   "source": [
    "potato = pd.read_csv('potato_data.csv')\n",
    "\n",
    "data_prices = potato[['Modal Price (Rs./Quintal)', 'Variety', 'Reported Date']]\n",
    "\n",
    "data = data.copy()\n",
    "\n",
    "data.loc[:, 'Modal Price (Rs./Quintal)'] = data['Modal Price (Rs./Quintal)'].astype(float)\n",
    "data['Reported Date'] = pd.to_datetime(data['Reported Date'], format = '%d-%b-%y')\n",
    "\n",
    "data.head()"
   ]
  },
  {
   "cell_type": "code",
   "execution_count": 8,
   "id": "1679dd3d-11aa-4313-90df-db89cd7d9c53",
   "metadata": {},
   "outputs": [
    {
     "data": {
      "text/plain": [
       "Modal Price (Rs./Quintal)    0\n",
       "Variety                      0\n",
       "Reported Date                0\n",
       "dtype: int64"
      ]
     },
     "execution_count": 8,
     "metadata": {},
     "output_type": "execute_result"
    }
   ],
   "source": [
    "data.isnull().sum()"
   ]
  },
  {
   "cell_type": "code",
   "execution_count": 19,
   "id": "ead6470f-c585-440a-9482-ba4bf14aa626",
   "metadata": {},
   "outputs": [
    {
     "data": {
      "text/plain": [
       "(8052, 3)"
      ]
     },
     "execution_count": 19,
     "metadata": {},
     "output_type": "execute_result"
    }
   ],
   "source": [
    "data.shape"
   ]
  },
  {
   "cell_type": "code",
   "execution_count": 21,
   "id": "dd204d2e-0c5a-410b-9ac5-b798a730cc88",
   "metadata": {},
   "outputs": [
    {
     "data": {
      "text/html": [
       "<div>\n",
       "<style scoped>\n",
       "    .dataframe tbody tr th:only-of-type {\n",
       "        vertical-align: middle;\n",
       "    }\n",
       "\n",
       "    .dataframe tbody tr th {\n",
       "        vertical-align: top;\n",
       "    }\n",
       "\n",
       "    .dataframe thead th {\n",
       "        text-align: right;\n",
       "    }\n",
       "</style>\n",
       "<table border=\"1\" class=\"dataframe\">\n",
       "  <thead>\n",
       "    <tr style=\"text-align: right;\">\n",
       "      <th></th>\n",
       "      <th>Modal Price (Rs./Quintal)</th>\n",
       "      <th>Variety</th>\n",
       "      <th>Reported Date</th>\n",
       "    </tr>\n",
       "  </thead>\n",
       "  <tbody>\n",
       "    <tr>\n",
       "      <th>376</th>\n",
       "      <td>525</td>\n",
       "      <td>Desi</td>\n",
       "      <td>2002-11-01</td>\n",
       "    </tr>\n",
       "    <tr>\n",
       "      <th>4250</th>\n",
       "      <td>575</td>\n",
       "      <td>Desi</td>\n",
       "      <td>2002-11-02</td>\n",
       "    </tr>\n",
       "    <tr>\n",
       "      <th>1551</th>\n",
       "      <td>625</td>\n",
       "      <td>Desi</td>\n",
       "      <td>2002-11-06</td>\n",
       "    </tr>\n",
       "    <tr>\n",
       "      <th>743</th>\n",
       "      <td>575</td>\n",
       "      <td>Desi</td>\n",
       "      <td>2002-11-07</td>\n",
       "    </tr>\n",
       "    <tr>\n",
       "      <th>2510</th>\n",
       "      <td>625</td>\n",
       "      <td>Desi</td>\n",
       "      <td>2002-11-08</td>\n",
       "    </tr>\n",
       "  </tbody>\n",
       "</table>\n",
       "</div>"
      ],
      "text/plain": [
       "      Modal Price (Rs./Quintal) Variety Reported Date\n",
       "376                         525    Desi    2002-11-01\n",
       "4250                        575    Desi    2002-11-02\n",
       "1551                        625    Desi    2002-11-06\n",
       "743                         575    Desi    2002-11-07\n",
       "2510                        625    Desi    2002-11-08"
      ]
     },
     "execution_count": 21,
     "metadata": {},
     "output_type": "execute_result"
    }
   ],
   "source": [
    "sorted_data = data.sort_values(by = ['Reported Date', 'Variety'])\n",
    "filtered_data = sorted_data[sorted_data['Reported Date'] != '2002-03-21']\n",
    "filtered_data.head()"
   ]
  },
  {
   "cell_type": "code",
   "execution_count": 22,
   "id": "75354bf9-b392-462f-b5ab-e7d7eb59862f",
   "metadata": {},
   "outputs": [
    {
     "data": {
      "text/plain": [
       "(8051, 3)"
      ]
     },
     "execution_count": 22,
     "metadata": {},
     "output_type": "execute_result"
    }
   ],
   "source": [
    "filtered_data.shape"
   ]
  },
  {
   "cell_type": "code",
   "execution_count": 23,
   "id": "d863c426-9c47-4b4c-b925-8f8d86854425",
   "metadata": {},
   "outputs": [
    {
     "data": {
      "text/html": [
       "<div>\n",
       "<style scoped>\n",
       "    .dataframe tbody tr th:only-of-type {\n",
       "        vertical-align: middle;\n",
       "    }\n",
       "\n",
       "    .dataframe tbody tr th {\n",
       "        vertical-align: top;\n",
       "    }\n",
       "\n",
       "    .dataframe thead th {\n",
       "        text-align: right;\n",
       "    }\n",
       "</style>\n",
       "<table border=\"1\" class=\"dataframe\">\n",
       "  <thead>\n",
       "    <tr style=\"text-align: right;\">\n",
       "      <th></th>\n",
       "      <th>Modal Price (Rs./Quintal)</th>\n",
       "      <th>Variety</th>\n",
       "    </tr>\n",
       "    <tr>\n",
       "      <th>Reported Date</th>\n",
       "      <th></th>\n",
       "      <th></th>\n",
       "    </tr>\n",
       "  </thead>\n",
       "  <tbody>\n",
       "    <tr>\n",
       "      <th>2002-11-01</th>\n",
       "      <td>525</td>\n",
       "      <td>Desi</td>\n",
       "    </tr>\n",
       "    <tr>\n",
       "      <th>2002-11-02</th>\n",
       "      <td>575</td>\n",
       "      <td>Desi</td>\n",
       "    </tr>\n",
       "    <tr>\n",
       "      <th>2002-11-06</th>\n",
       "      <td>625</td>\n",
       "      <td>Desi</td>\n",
       "    </tr>\n",
       "    <tr>\n",
       "      <th>2002-11-07</th>\n",
       "      <td>575</td>\n",
       "      <td>Desi</td>\n",
       "    </tr>\n",
       "    <tr>\n",
       "      <th>2002-11-08</th>\n",
       "      <td>625</td>\n",
       "      <td>Desi</td>\n",
       "    </tr>\n",
       "  </tbody>\n",
       "</table>\n",
       "</div>"
      ],
      "text/plain": [
       "               Modal Price (Rs./Quintal) Variety\n",
       "Reported Date                                   \n",
       "2002-11-01                           525    Desi\n",
       "2002-11-02                           575    Desi\n",
       "2002-11-06                           625    Desi\n",
       "2002-11-07                           575    Desi\n",
       "2002-11-08                           625    Desi"
      ]
     },
     "execution_count": 23,
     "metadata": {},
     "output_type": "execute_result"
    }
   ],
   "source": [
    "data_indexed = filtered_data.copy()\n",
    "data_indexed.set_index('Reported Date', inplace=True)\n",
    "data_indexed.head()"
   ]
  },
  {
   "cell_type": "code",
   "execution_count": 29,
   "id": "f99285ee-82db-4d8a-b359-1e8f79312dfc",
   "metadata": {},
   "outputs": [
    {
     "data": {
      "text/html": [
       "<div>\n",
       "<style scoped>\n",
       "    .dataframe tbody tr th:only-of-type {\n",
       "        vertical-align: middle;\n",
       "    }\n",
       "\n",
       "    .dataframe tbody tr th {\n",
       "        vertical-align: top;\n",
       "    }\n",
       "\n",
       "    .dataframe thead th {\n",
       "        text-align: right;\n",
       "    }\n",
       "</style>\n",
       "<table border=\"1\" class=\"dataframe\">\n",
       "  <thead>\n",
       "    <tr style=\"text-align: right;\">\n",
       "      <th></th>\n",
       "      <th>Modal Price (Rs./Quintal)</th>\n",
       "      <th>Variety_(Red Nanital)</th>\n",
       "      <th>Variety_Chips</th>\n",
       "      <th>Variety_Desi</th>\n",
       "      <th>Variety_Jyoti</th>\n",
       "      <th>Variety_Local</th>\n",
       "      <th>Variety_Other</th>\n",
       "      <th>Variety_Potato</th>\n",
       "      <th>Variety_Red</th>\n",
       "    </tr>\n",
       "    <tr>\n",
       "      <th>Reported Date</th>\n",
       "      <th></th>\n",
       "      <th></th>\n",
       "      <th></th>\n",
       "      <th></th>\n",
       "      <th></th>\n",
       "      <th></th>\n",
       "      <th></th>\n",
       "      <th></th>\n",
       "      <th></th>\n",
       "    </tr>\n",
       "  </thead>\n",
       "  <tbody>\n",
       "    <tr>\n",
       "      <th>2002-11-01</th>\n",
       "      <td>525</td>\n",
       "      <td>0</td>\n",
       "      <td>0</td>\n",
       "      <td>1</td>\n",
       "      <td>0</td>\n",
       "      <td>0</td>\n",
       "      <td>0</td>\n",
       "      <td>0</td>\n",
       "      <td>0</td>\n",
       "    </tr>\n",
       "    <tr>\n",
       "      <th>2002-11-02</th>\n",
       "      <td>575</td>\n",
       "      <td>0</td>\n",
       "      <td>0</td>\n",
       "      <td>1</td>\n",
       "      <td>0</td>\n",
       "      <td>0</td>\n",
       "      <td>0</td>\n",
       "      <td>0</td>\n",
       "      <td>0</td>\n",
       "    </tr>\n",
       "    <tr>\n",
       "      <th>2002-11-06</th>\n",
       "      <td>625</td>\n",
       "      <td>0</td>\n",
       "      <td>0</td>\n",
       "      <td>1</td>\n",
       "      <td>0</td>\n",
       "      <td>0</td>\n",
       "      <td>0</td>\n",
       "      <td>0</td>\n",
       "      <td>0</td>\n",
       "    </tr>\n",
       "    <tr>\n",
       "      <th>2002-11-07</th>\n",
       "      <td>575</td>\n",
       "      <td>0</td>\n",
       "      <td>0</td>\n",
       "      <td>1</td>\n",
       "      <td>0</td>\n",
       "      <td>0</td>\n",
       "      <td>0</td>\n",
       "      <td>0</td>\n",
       "      <td>0</td>\n",
       "    </tr>\n",
       "    <tr>\n",
       "      <th>2002-11-08</th>\n",
       "      <td>625</td>\n",
       "      <td>0</td>\n",
       "      <td>0</td>\n",
       "      <td>1</td>\n",
       "      <td>0</td>\n",
       "      <td>0</td>\n",
       "      <td>0</td>\n",
       "      <td>0</td>\n",
       "      <td>0</td>\n",
       "    </tr>\n",
       "  </tbody>\n",
       "</table>\n",
       "</div>"
      ],
      "text/plain": [
       "               Modal Price (Rs./Quintal)  Variety_(Red Nanital)  \\\n",
       "Reported Date                                                     \n",
       "2002-11-01                           525                      0   \n",
       "2002-11-02                           575                      0   \n",
       "2002-11-06                           625                      0   \n",
       "2002-11-07                           575                      0   \n",
       "2002-11-08                           625                      0   \n",
       "\n",
       "               Variety_Chips  Variety_Desi  Variety_Jyoti  Variety_Local  \\\n",
       "Reported Date                                                              \n",
       "2002-11-01                 0             1              0              0   \n",
       "2002-11-02                 0             1              0              0   \n",
       "2002-11-06                 0             1              0              0   \n",
       "2002-11-07                 0             1              0              0   \n",
       "2002-11-08                 0             1              0              0   \n",
       "\n",
       "               Variety_Other  Variety_Potato  Variety_Red  \n",
       "Reported Date                                              \n",
       "2002-11-01                 0               0            0  \n",
       "2002-11-02                 0               0            0  \n",
       "2002-11-06                 0               0            0  \n",
       "2002-11-07                 0               0            0  \n",
       "2002-11-08                 0               0            0  "
      ]
     },
     "execution_count": 29,
     "metadata": {},
     "output_type": "execute_result"
    }
   ],
   "source": [
    "## one-hot encoding for variety\n",
    "one_hot = pd.get_dummies(data_indexed['Variety'],prefix = 'Variety')\n",
    "data_combined = data_indexed.drop('Variety', axis=1).join(one_hot)\n",
    "\n",
    "aggregation = {col: 'first' for col in data_combined.columns if not col.startswith('Variety_')}\n",
    "aggregation.update({col : 'sum' for col in data_combined.columns if col.startswith('Variety_')})\n",
    "\n",
    "data_grouped = data_combined.groupby(data_combined.index).agg(aggregation)\n",
    "\n",
    "data_grouped.head()"
   ]
  },
  {
   "cell_type": "code",
   "execution_count": 30,
   "id": "fed9070f-5924-49e7-80c3-f52c8df7ecb8",
   "metadata": {},
   "outputs": [
    {
     "data": {
      "text/plain": [
       "(5237, 9)"
      ]
     },
     "execution_count": 30,
     "metadata": {},
     "output_type": "execute_result"
    }
   ],
   "source": [
    "data_grouped.shape"
   ]
  },
  {
   "cell_type": "code",
   "execution_count": 35,
   "id": "13d6b5a2-cd31-4b60-ad0b-dc6a515a89ad",
   "metadata": {},
   "outputs": [
    {
     "data": {
      "text/html": [
       "<div>\n",
       "<style scoped>\n",
       "    .dataframe tbody tr th:only-of-type {\n",
       "        vertical-align: middle;\n",
       "    }\n",
       "\n",
       "    .dataframe tbody tr th {\n",
       "        vertical-align: top;\n",
       "    }\n",
       "\n",
       "    .dataframe thead th {\n",
       "        text-align: right;\n",
       "    }\n",
       "</style>\n",
       "<table border=\"1\" class=\"dataframe\">\n",
       "  <thead>\n",
       "    <tr style=\"text-align: right;\">\n",
       "      <th></th>\n",
       "      <th>Modal Price (Rs./Quintal)</th>\n",
       "      <th>Variety_(Red Nanital)</th>\n",
       "      <th>Variety_Chips</th>\n",
       "      <th>Variety_Desi</th>\n",
       "      <th>Variety_Jyoti</th>\n",
       "      <th>Variety_Local</th>\n",
       "      <th>Variety_Other</th>\n",
       "      <th>Variety_Potato</th>\n",
       "      <th>Variety_Red</th>\n",
       "    </tr>\n",
       "    <tr>\n",
       "      <th>Date</th>\n",
       "      <th></th>\n",
       "      <th></th>\n",
       "      <th></th>\n",
       "      <th></th>\n",
       "      <th></th>\n",
       "      <th></th>\n",
       "      <th></th>\n",
       "      <th></th>\n",
       "      <th></th>\n",
       "    </tr>\n",
       "  </thead>\n",
       "  <tbody>\n",
       "    <tr>\n",
       "      <th>2002-11-01</th>\n",
       "      <td>525.0</td>\n",
       "      <td>0.0</td>\n",
       "      <td>0.0</td>\n",
       "      <td>1.0</td>\n",
       "      <td>0.0</td>\n",
       "      <td>0.0</td>\n",
       "      <td>0.0</td>\n",
       "      <td>0.0</td>\n",
       "      <td>0.0</td>\n",
       "    </tr>\n",
       "    <tr>\n",
       "      <th>2002-11-02</th>\n",
       "      <td>575.0</td>\n",
       "      <td>0.0</td>\n",
       "      <td>0.0</td>\n",
       "      <td>1.0</td>\n",
       "      <td>0.0</td>\n",
       "      <td>0.0</td>\n",
       "      <td>0.0</td>\n",
       "      <td>0.0</td>\n",
       "      <td>0.0</td>\n",
       "    </tr>\n",
       "    <tr>\n",
       "      <th>2002-11-03</th>\n",
       "      <td>NaN</td>\n",
       "      <td>NaN</td>\n",
       "      <td>NaN</td>\n",
       "      <td>NaN</td>\n",
       "      <td>NaN</td>\n",
       "      <td>NaN</td>\n",
       "      <td>NaN</td>\n",
       "      <td>NaN</td>\n",
       "      <td>NaN</td>\n",
       "    </tr>\n",
       "    <tr>\n",
       "      <th>2002-11-04</th>\n",
       "      <td>NaN</td>\n",
       "      <td>NaN</td>\n",
       "      <td>NaN</td>\n",
       "      <td>NaN</td>\n",
       "      <td>NaN</td>\n",
       "      <td>NaN</td>\n",
       "      <td>NaN</td>\n",
       "      <td>NaN</td>\n",
       "      <td>NaN</td>\n",
       "    </tr>\n",
       "    <tr>\n",
       "      <th>2002-11-05</th>\n",
       "      <td>NaN</td>\n",
       "      <td>NaN</td>\n",
       "      <td>NaN</td>\n",
       "      <td>NaN</td>\n",
       "      <td>NaN</td>\n",
       "      <td>NaN</td>\n",
       "      <td>NaN</td>\n",
       "      <td>NaN</td>\n",
       "      <td>NaN</td>\n",
       "    </tr>\n",
       "  </tbody>\n",
       "</table>\n",
       "</div>"
      ],
      "text/plain": [
       "            Modal Price (Rs./Quintal)  Variety_(Red Nanital)  Variety_Chips  \\\n",
       "Date                                                                          \n",
       "2002-11-01                      525.0                    0.0            0.0   \n",
       "2002-11-02                      575.0                    0.0            0.0   \n",
       "2002-11-03                        NaN                    NaN            NaN   \n",
       "2002-11-04                        NaN                    NaN            NaN   \n",
       "2002-11-05                        NaN                    NaN            NaN   \n",
       "\n",
       "            Variety_Desi  Variety_Jyoti  Variety_Local  Variety_Other  \\\n",
       "Date                                                                    \n",
       "2002-11-01           1.0            0.0            0.0            0.0   \n",
       "2002-11-02           1.0            0.0            0.0            0.0   \n",
       "2002-11-03           NaN            NaN            NaN            NaN   \n",
       "2002-11-04           NaN            NaN            NaN            NaN   \n",
       "2002-11-05           NaN            NaN            NaN            NaN   \n",
       "\n",
       "            Variety_Potato  Variety_Red  \n",
       "Date                                     \n",
       "2002-11-01             0.0          0.0  \n",
       "2002-11-02             0.0          0.0  \n",
       "2002-11-03             NaN          NaN  \n",
       "2002-11-04             NaN          NaN  \n",
       "2002-11-05             NaN          NaN  "
      ]
     },
     "execution_count": 35,
     "metadata": {},
     "output_type": "execute_result"
    }
   ],
   "source": [
    "all_dates = pd.date_range(start = data_grouped.index.min(), end = data_grouped.index.max())\n",
    "data_reindexed = data_grouped.reindex(all_dates)\n",
    "data_reindexed = data_reindexed.reset_index().rename(columns = {'index' : 'Date'})\n",
    "data_reindexed = data_reindexed.set_index('Date')\n",
    "data_reindexed.head()"
   ]
  },
  {
   "cell_type": "code",
   "execution_count": 44,
   "id": "69a13562-395d-4ada-8849-7d99a71ba5a2",
   "metadata": {},
   "outputs": [],
   "source": [
    "for col in data_reindexed.columns:\n",
    "    data_reindexed[col] = data_reindexed[col].astype(float)\n",
    "\n",
    "data_reindexed = data_reindexed.ffill().bfill()\n",
    "df = data_reindexed.copy()"
   ]
  },
  {
   "cell_type": "code",
   "execution_count": 45,
   "id": "5138ea57-c0ac-455c-9ef4-e35612be38a2",
   "metadata": {},
   "outputs": [
    {
     "data": {
      "text/plain": [
       "(7922, 9)"
      ]
     },
     "execution_count": 45,
     "metadata": {},
     "output_type": "execute_result"
    }
   ],
   "source": [
    "df.shape"
   ]
  },
  {
   "cell_type": "code",
   "execution_count": 51,
   "id": "03301bfe-4fa4-4dd3-9dcf-c0bbabdc1e3d",
   "metadata": {},
   "outputs": [
    {
     "data": {
      "text/html": [
       "<div>\n",
       "<style scoped>\n",
       "    .dataframe tbody tr th:only-of-type {\n",
       "        vertical-align: middle;\n",
       "    }\n",
       "\n",
       "    .dataframe tbody tr th {\n",
       "        vertical-align: top;\n",
       "    }\n",
       "\n",
       "    .dataframe thead th {\n",
       "        text-align: right;\n",
       "    }\n",
       "</style>\n",
       "<table border=\"1\" class=\"dataframe\">\n",
       "  <thead>\n",
       "    <tr style=\"text-align: right;\">\n",
       "      <th></th>\n",
       "      <th>Modal Price (Rs./Quintal)</th>\n",
       "      <th>Variety_(Red Nanital)</th>\n",
       "      <th>Variety_Chips</th>\n",
       "      <th>Variety_Desi</th>\n",
       "      <th>Variety_Jyoti</th>\n",
       "      <th>Variety_Local</th>\n",
       "      <th>Variety_Other</th>\n",
       "      <th>Variety_Potato</th>\n",
       "      <th>Variety_Red</th>\n",
       "      <th>trend</th>\n",
       "      <th>seasonal</th>\n",
       "      <th>residual</th>\n",
       "    </tr>\n",
       "    <tr>\n",
       "      <th>Date</th>\n",
       "      <th></th>\n",
       "      <th></th>\n",
       "      <th></th>\n",
       "      <th></th>\n",
       "      <th></th>\n",
       "      <th></th>\n",
       "      <th></th>\n",
       "      <th></th>\n",
       "      <th></th>\n",
       "      <th></th>\n",
       "      <th></th>\n",
       "      <th></th>\n",
       "    </tr>\n",
       "  </thead>\n",
       "  <tbody>\n",
       "    <tr>\n",
       "      <th>2002-11-16</th>\n",
       "      <td>600.0</td>\n",
       "      <td>0.0</td>\n",
       "      <td>0.0</td>\n",
       "      <td>1.0</td>\n",
       "      <td>0.0</td>\n",
       "      <td>0.0</td>\n",
       "      <td>0.0</td>\n",
       "      <td>0.0</td>\n",
       "      <td>0.0</td>\n",
       "      <td>591.000000</td>\n",
       "      <td>1.476728</td>\n",
       "      <td>7.523272</td>\n",
       "    </tr>\n",
       "    <tr>\n",
       "      <th>2002-11-17</th>\n",
       "      <td>600.0</td>\n",
       "      <td>0.0</td>\n",
       "      <td>0.0</td>\n",
       "      <td>1.0</td>\n",
       "      <td>0.0</td>\n",
       "      <td>0.0</td>\n",
       "      <td>0.0</td>\n",
       "      <td>0.0</td>\n",
       "      <td>0.0</td>\n",
       "      <td>593.166667</td>\n",
       "      <td>0.567195</td>\n",
       "      <td>6.266138</td>\n",
       "    </tr>\n",
       "    <tr>\n",
       "      <th>2002-11-18</th>\n",
       "      <td>600.0</td>\n",
       "      <td>0.0</td>\n",
       "      <td>0.0</td>\n",
       "      <td>1.0</td>\n",
       "      <td>0.0</td>\n",
       "      <td>0.0</td>\n",
       "      <td>0.0</td>\n",
       "      <td>0.0</td>\n",
       "      <td>0.0</td>\n",
       "      <td>594.500000</td>\n",
       "      <td>14.315802</td>\n",
       "      <td>-8.815802</td>\n",
       "    </tr>\n",
       "    <tr>\n",
       "      <th>2002-11-19</th>\n",
       "      <td>525.0</td>\n",
       "      <td>0.0</td>\n",
       "      <td>0.0</td>\n",
       "      <td>1.0</td>\n",
       "      <td>0.0</td>\n",
       "      <td>0.0</td>\n",
       "      <td>0.0</td>\n",
       "      <td>0.0</td>\n",
       "      <td>0.0</td>\n",
       "      <td>595.833333</td>\n",
       "      <td>-0.714997</td>\n",
       "      <td>-70.118337</td>\n",
       "    </tr>\n",
       "    <tr>\n",
       "      <th>2002-11-20</th>\n",
       "      <td>625.0</td>\n",
       "      <td>0.0</td>\n",
       "      <td>0.0</td>\n",
       "      <td>1.0</td>\n",
       "      <td>0.0</td>\n",
       "      <td>0.0</td>\n",
       "      <td>0.0</td>\n",
       "      <td>0.0</td>\n",
       "      <td>0.0</td>\n",
       "      <td>597.166667</td>\n",
       "      <td>14.212380</td>\n",
       "      <td>13.620954</td>\n",
       "    </tr>\n",
       "  </tbody>\n",
       "</table>\n",
       "</div>"
      ],
      "text/plain": [
       "            Modal Price (Rs./Quintal)  Variety_(Red Nanital)  Variety_Chips  \\\n",
       "Date                                                                          \n",
       "2002-11-16                      600.0                    0.0            0.0   \n",
       "2002-11-17                      600.0                    0.0            0.0   \n",
       "2002-11-18                      600.0                    0.0            0.0   \n",
       "2002-11-19                      525.0                    0.0            0.0   \n",
       "2002-11-20                      625.0                    0.0            0.0   \n",
       "\n",
       "            Variety_Desi  Variety_Jyoti  Variety_Local  Variety_Other  \\\n",
       "Date                                                                    \n",
       "2002-11-16           1.0            0.0            0.0            0.0   \n",
       "2002-11-17           1.0            0.0            0.0            0.0   \n",
       "2002-11-18           1.0            0.0            0.0            0.0   \n",
       "2002-11-19           1.0            0.0            0.0            0.0   \n",
       "2002-11-20           1.0            0.0            0.0            0.0   \n",
       "\n",
       "            Variety_Potato  Variety_Red       trend   seasonal   residual  \n",
       "Date                                                                       \n",
       "2002-11-16             0.0          0.0  591.000000   1.476728   7.523272  \n",
       "2002-11-17             0.0          0.0  593.166667   0.567195   6.266138  \n",
       "2002-11-18             0.0          0.0  594.500000  14.315802  -8.815802  \n",
       "2002-11-19             0.0          0.0  595.833333  -0.714997 -70.118337  \n",
       "2002-11-20             0.0          0.0  597.166667  14.212380  13.620954  "
      ]
     },
     "execution_count": 51,
     "metadata": {},
     "output_type": "execute_result"
    }
   ],
   "source": [
    "decomposition = seasonal_decompose(df['Modal Price (Rs./Quintal)'], model='additive', period=30)\n",
    "df['trend'] = decomposition.trend\n",
    "df['seasonal'] = decomposition.seasonal\n",
    "df['residual'] = decomposition.resid\n",
    "\n",
    "df2 = df.copy()\n",
    "df2.dropna(inplace=True)\n",
    "\n",
    "df2.head()"
   ]
  },
  {
   "cell_type": "code",
   "execution_count": 61,
   "id": "657cbf49-f756-4345-ac6a-ac2789789b79",
   "metadata": {},
   "outputs": [
    {
     "data": {
      "text/plain": [
       "(7890, 16)"
      ]
     },
     "execution_count": 61,
     "metadata": {},
     "output_type": "execute_result"
    }
   ],
   "source": [
    "df2['rolling_mean'] = df2['Modal Price (Rs./Quintal)'].rolling(window=15).mean()\n",
    "df2['rolling_std'] = df2['Modal Price (Rs./Quintal)'].rolling(window=15).std()\n",
    "df2['rolling_sum'] = df2['Modal Price (Rs./Quintal)'].rolling(window=15).sum()\n",
    "\n",
    "df2 = df2.bfill()\n",
    "df2.shape"
   ]
  },
  {
   "cell_type": "code",
   "execution_count": 62,
   "id": "ade4ee7a-6f6c-469a-817e-cc84d7a272a7",
   "metadata": {},
   "outputs": [],
   "source": [
    "# Check for non-positive values\n",
    "non_positive_values = df2[df2['Modal Price (Rs./Quintal)'] <= 0]\n",
    "\n",
    "# If non-positive values are found, handle them\n",
    "if not non_positive_values.empty:\n",
    "    # Option 1: Remove non-positive values\n",
    "    df2 = df2[df2['Modal Price (Rs./Quintal)'] > 0]"
   ]
  },
  {
   "cell_type": "code",
   "execution_count": 63,
   "id": "8a8b2cbf-2e16-4235-b196-83d2da94b52a",
   "metadata": {},
   "outputs": [
    {
     "data": {
      "text/plain": [
       "(7890, 16)"
      ]
     },
     "execution_count": 63,
     "metadata": {},
     "output_type": "execute_result"
    }
   ],
   "source": [
    "df2.shape"
   ]
  },
  {
   "cell_type": "code",
   "execution_count": 64,
   "id": "1840db76-98b2-4a90-8de2-7ff448a88df2",
   "metadata": {},
   "outputs": [],
   "source": [
    "df2['modal_boxcox'], lam = boxcox(df2['Modal Price (Rs./Quintal)'])"
   ]
  },
  {
   "cell_type": "code",
   "execution_count": 65,
   "id": "23a6f153-daba-4204-a8c7-f37d694e9df7",
   "metadata": {},
   "outputs": [
    {
     "data": {
      "text/plain": [
       "(7890, 16)"
      ]
     },
     "execution_count": 65,
     "metadata": {},
     "output_type": "execute_result"
    }
   ],
   "source": [
    "df2.shape"
   ]
  },
  {
   "cell_type": "code",
   "execution_count": 66,
   "id": "6f5b0ddd-443f-459b-a994-9401fc470e24",
   "metadata": {},
   "outputs": [],
   "source": [
    "df2.to_csv('data_for_lstm_model3.csv')"
   ]
  },
  {
   "cell_type": "code",
   "execution_count": null,
   "id": "97242b3c-39fe-4bba-9eaf-893033f46c3d",
   "metadata": {},
   "outputs": [],
   "source": []
  },
  {
   "cell_type": "code",
   "execution_count": null,
   "id": "989a2777-8358-4a25-a3b9-9fe69c3ff221",
   "metadata": {},
   "outputs": [],
   "source": []
  }
 ],
 "metadata": {
  "kernelspec": {
   "display_name": "Python 3 (ipykernel)",
   "language": "python",
   "name": "python3"
  },
  "language_info": {
   "codemirror_mode": {
    "name": "ipython",
    "version": 3
   },
   "file_extension": ".py",
   "mimetype": "text/x-python",
   "name": "python",
   "nbconvert_exporter": "python",
   "pygments_lexer": "ipython3",
   "version": "3.11.7"
  }
 },
 "nbformat": 4,
 "nbformat_minor": 5
}
